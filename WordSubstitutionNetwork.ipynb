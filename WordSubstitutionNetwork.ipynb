{
 "cells": [
  {
   "cell_type": "code",
   "outputs": [],
   "source": [
    "import sys, random, math\n",
    "from collections import Counter\n",
    "import numpy as np\n",
    "from nltk.corpus.reader import reviews\n",
    "\n",
    "np.random.seed(2)\n",
    "random.seed(2)\n",
    "with open('Source/reviews.txt') as f:\n",
    "    raw_reviews = f.readlines()\n",
    "    \n",
    "tokens = list(map(lambda x: x.split(), raw_reviews))\n",
    "wordcnt = Counter()\n",
    "for token in tokens:\n",
    "    for word in token:\n",
    "        wordcnt[word] -= 1\n",
    "        \n",
    "vocab = list(set(map(lambda x: x[0], wordcnt.most_common())))\n",
    "\n",
    "word2index = {word: i for i, word in enumerate(vocab)}\n",
    "concatenated = np.array([word2index[word] for token in tokens for word in token if word in word2index])\n",
    "\n",
    "input_dataset = []\n",
    "for token in tokens:\n",
    "    sent = []\n",
    "    for word in token:\n",
    "        sent.append(word2index[word]) if word in word2index else input_dataset\n",
    "        \n",
    "    input_dataset.append(sent)\n"
   ],
   "metadata": {
    "collapsed": true,
    "ExecuteTime": {
     "end_time": "2024-04-06T19:35:39.607328Z",
     "start_time": "2024-04-06T19:35:32.767811Z"
    }
   },
   "id": "initial_id",
   "execution_count": 1
  },
  {
   "cell_type": "code",
   "outputs": [],
   "source": [
    "def similar(target='beautiful'):\n",
    "    target_index = word2index[target]\n",
    "\n",
    "    scores = Counter()\n",
    "    for word,index in word2index.items():\n",
    "        raw_difference = weights_0_1[index] - (weights_0_1[target_index])\n",
    "        squared_difference = raw_difference * raw_difference\n",
    "        scores[word] = -math.sqrt(sum(squared_difference))\n",
    "    return scores.most_common(10)\n",
    "\n",
    "sigmoid = lambda x: 1 / (1 + np.exp(-x))"
   ],
   "metadata": {
    "collapsed": false,
    "ExecuteTime": {
     "end_time": "2024-04-07T08:50:14.130843Z",
     "start_time": "2024-04-07T08:50:14.111657Z"
    }
   },
   "id": "6fadb9620fe0c6ab",
   "execution_count": 30
  },
  {
   "cell_type": "code",
   "outputs": [
    {
     "name": "stdout",
     "output_type": "stream",
     "text": [
      "Progress:0.99998 [('the', -0.0), ('tier', -5.299581307368722), ('angelopoulos', -5.363384988570741), ('esquire', -5.37014584580258), ('our', -5.53100806836489), ('balding', -5.6786569415731885), ('malfunctions', -5.691637090616645), ('splashy', -5.703941309521132), ('yay', -5.748181578270544), ('sized', -5.7571611261994)]6782)]73)]859145)]7)]"
     ]
    }
   ],
   "source": [
    "random.shuffle(input_dataset)\n",
    "alpha, iterations = 0.05, 2\n",
    "hidden_size, window, negative = 50, 2, 5\n",
    "\n",
    "weights_0_1 = np.random.randn(len(vocab), hidden_size) * 0.2 - 0.1\n",
    "weights_1_2 = np.zeros((len(vocab), hidden_size))\n",
    "\n",
    "layer_2_target = np.zeros(negative + 1)\n",
    "layer_2_target[0] = 1\n",
    "\n",
    "for rev_i, review in enumerate(input_dataset * iterations):\n",
    "    for target_i in range(len(review)):\n",
    "        target_samples = [review[target_i]] + list(concatenated\\\n",
    "            [(np.random.rand(negative)*len(concatenated)).astype('int').tolist()])\n",
    "\n",
    "        left_context = review[max(0, target_i-window):target_i]\n",
    "        right_context = review[target_i+1:min(len(review), target_i+window)]\n",
    "\n",
    "        layer_1 = np.mean(weights_0_1[left_context+right_context],axis=0)\n",
    "        layer_2 = sigmoid(layer_1 @ weights_1_2[target_samples].T)\n",
    "        layer_2_delta = layer_2 - layer_2_target\n",
    "        layer_1_delta = layer_2_delta @ weights_1_2[target_samples]\n",
    "        \n",
    "        weights_0_1[left_context+right_context] -= layer_1_delta * alpha\n",
    "        weights_1_2[target_samples] -= np.outer(layer_2_delta, layer_1) * alpha\n",
    "\n",
    "    if(rev_i % 250 == 0):\n",
    "        sys.stdout.write('\\rProgress:'+str(rev_i/float(len(input_dataset)\n",
    "                                                       *iterations)) + \"   \" + str(similar('the')))\n",
    "        \n",
    "    sys.stdout.write('\\rProgress:'+str(rev_i/float(len(input_dataset)\n",
    "                                                   *iterations)))"
   ],
   "metadata": {
    "collapsed": false,
    "ExecuteTime": {
     "end_time": "2024-04-06T19:55:27.635869Z",
     "start_time": "2024-04-06T19:35:39.620332Z"
    }
   },
   "id": "292847e05731674a",
   "execution_count": 3
  },
  {
   "cell_type": "code",
   "outputs": [],
   "source": [
    "norms = np.sum(weights_0_1 * weights_0_1, axis=1)\n",
    "norms.resize(norms.shape[0], 1)\n",
    "\n",
    "normed_weights = weights_0_1 * norms\n",
    "\n",
    "def analogy(positive=['terrible', 'good'], negative=['bad']):\n",
    "    query_vect = np.zeros(len(weights_0_1[0]))\n",
    "    for word in positive:\n",
    "        query_vect += normed_weights[word2index[word]]\n",
    "    for word in negative:\n",
    "        query_vect -= normed_weights[word2index[word]]\n",
    "        \n",
    "    scores = Counter()\n",
    "    for word, index in word2index.items():\n",
    "        raw_difference = weights_0_1[index] - query_vect\n",
    "        scores[word] = -math.sqrt(sum(raw_difference * raw_difference))\n",
    "    return scores.most_common(10)\n",
    "\n",
    "def make_sent_vect(words):\n",
    "    indices = list(map(lambda x: word2index[x], filter(lambda x: x in vocab, words)))\n",
    "    return np.mean(normed_weights[indices], axis=0)\n",
    "\n",
    "# reviews2vectors = np.array([make_sent_vect(x) for x in tokens])\n",
    "\n",
    "def most_similar_reviews(review):\n",
    "    vec = make_sent_vect(review)\n",
    "    scores = Counter()\n",
    "    for i, val in enumerate(reviews2vectors @ vec):\n",
    "        scores[i] = val\n",
    "    return [raw_reviews[i][:40] + ' ' + score for i, score in scores.most_common(3)]"
   ],
   "metadata": {
    "collapsed": false,
    "is_executing": true,
    "ExecuteTime": {
     "start_time": "2024-04-07T09:09:15.829414Z"
    }
   },
   "id": "765acc12c0c89009",
   "execution_count": null
  },
  {
   "cell_type": "code",
   "outputs": [],
   "source": [
    "reviews2vectors"
   ],
   "metadata": {
    "collapsed": false,
    "is_executing": true
   },
   "id": "59386b5b3959d3a9",
   "execution_count": null
  },
  {
   "cell_type": "code",
   "outputs": [
    {
     "data": {
      "text/plain": "20630"
     },
     "execution_count": 39,
     "metadata": {},
     "output_type": "execute_result"
    }
   ],
   "source": [],
   "metadata": {
    "collapsed": false,
    "ExecuteTime": {
     "end_time": "2024-04-07T08:59:23.229533Z",
     "start_time": "2024-04-07T08:59:23.222440Z"
    }
   },
   "id": "d2ae1913d51b581e",
   "execution_count": 39
  },
  {
   "cell_type": "code",
   "outputs": [],
   "source": [],
   "metadata": {
    "collapsed": false
   },
   "id": "b5a137a6ea02dded"
  }
 ],
 "metadata": {
  "kernelspec": {
   "display_name": "Python 3",
   "language": "python",
   "name": "python3"
  },
  "language_info": {
   "codemirror_mode": {
    "name": "ipython",
    "version": 2
   },
   "file_extension": ".py",
   "mimetype": "text/x-python",
   "name": "python",
   "nbconvert_exporter": "python",
   "pygments_lexer": "ipython2",
   "version": "2.7.6"
  }
 },
 "nbformat": 4,
 "nbformat_minor": 5
}
