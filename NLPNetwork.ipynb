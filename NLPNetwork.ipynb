{
 "cells": [
  {
   "cell_type": "code",
   "execution_count": 12,
   "id": "initial_id",
   "metadata": {
    "collapsed": true,
    "ExecuteTime": {
     "end_time": "2024-03-10T18:31:34.238341Z",
     "start_time": "2024-03-10T18:31:29.245531Z"
    }
   },
   "outputs": [],
   "source": [
    "import sys\n",
    "\n",
    "with open('Source/reviews.txt') as r, open('Source/labels.txt') as l:\n",
    "    raw_reviews = r.readlines()\n",
    "    raw_labels = l.readlines()\n",
    "    \n",
    " \n",
    "tokens = list(map(lambda x: set(x.split(\" \")), raw_reviews))\n",
    "\n",
    "vocab_raw = list(set([word for token in tokens for word in token if len(word) > 0 and word[0].isalpha()]))\n",
    "vocab = list(set([''.join([w for w in word if w.isalpha()]) for word in vocab_raw]))\n",
    "\n",
    "word2index = {w:i for i, w in enumerate(vocab)}\n",
    "input_dataset = [list(set([word2index[word] for word in token if word in word2index])) for token in tokens]\n",
    "    \n",
    "target_dataset = [int(label == 'positive\\n') for label in raw_labels]"
   ]
  },
  {
   "cell_type": "code",
   "outputs": [
    {
     "name": "stdout",
     "output_type": "stream",
     "text": [
      "Iter: 1 progress: 95.99 accurancy: 0.86758333333333345"
     ]
    }
   ],
   "source": [
    "import numpy as np\n",
    "np.random.seed(1)\n",
    "\n",
    "sigmoid = lambda x: 1 / (1 + np.exp(-x))\n",
    "sigder = lambda x: x * (1 - x)\n",
    "alpha, iterations = 0.01, 2\n",
    "hidden_size = 100\n",
    "\n",
    "weights_0_1 = 0.2 * np.random.random((len(vocab), hidden_size)) - 0.1\n",
    "weights_1_2 = 0.2 * np.random.random((hidden_size, 1)) - 0.1\n",
    "\n",
    "correct, total = 0, 0\n",
    "for iter in range(iterations):\n",
    "    for i in range(len(input_dataset) - 1000):\n",
    "        x, y = input_dataset[i], target_dataset[i]\n",
    "        layer_1 = sigmoid(np.sum(weights_0_1[x], axis=0))\n",
    "        layer_2 = sigmoid(layer_1 @ weights_1_2)\n",
    "\n",
    "        layer_2_delta = (np.abs(layer_2)- y)\n",
    "        layer_1_delta = (layer_2_delta @ weights_1_2.T)\n",
    "\n",
    "        weights_0_1[x] -= layer_1_delta * alpha\n",
    "        weights_1_2 -= np.outer(layer_1, layer_2_delta) * alpha\n",
    "\n",
    "        if np.abs(layer_2 - y) < 0.5:\n",
    "            correct += 1\n",
    "        total += 1\n",
    "\n",
    "        if i % 10 == 9:\n",
    "            progres = str(i / (len(input_dataset)) * 100)\n",
    "            sys.stdout.write('\\rIter: ' + str(iter) + \\\n",
    "                             ' progress: ' + str(progres)[:5] + \\\n",
    "                             ' accurancy: ' + str(correct / total))"
   ],
   "metadata": {
    "collapsed": false,
    "ExecuteTime": {
     "end_time": "2024-03-10T18:33:09.310889Z",
     "start_time": "2024-03-10T18:32:55.274912Z"
    }
   },
   "id": "83daffd6f7eea0d3",
   "execution_count": 20
  },
  {
   "cell_type": "code",
   "outputs": [],
   "source": [
    "from collections import Counter\n",
    "import math\n",
    "\n",
    "\n",
    "def test(inp):\n",
    "    inp = ''.join([i for i in inp if i.isalpha() or i == ' '])\n",
    "    x = list(set([word2index[word] for word in inp.split() if word in vocab]))\n",
    "    layer_1 = sigmoid(np.sum(weights_0_1[x], axis=0))\n",
    "    layer_2 = sigmoid(layer_1 @ weights_1_2)\n",
    "    return layer_2\n",
    "\n",
    "\n",
    "def similar(target='beautiful'):\n",
    "    target_index = word2index[target]\n",
    "    scores = Counter()\n",
    "    for word,index in word2index.items():\n",
    "        raw_difference = weights_0_1[index] - (weights_0_1[target_index])\n",
    "        squared_difference = raw_difference * raw_difference\n",
    "        scores[word] = -math.sqrt(sum(squared_difference))\n",
    "\n",
    "    return scores.most_common(10)\n",
    "    "
   ],
   "metadata": {
    "collapsed": false,
    "ExecuteTime": {
     "end_time": "2024-03-10T18:40:53.006128Z",
     "start_time": "2024-03-10T18:40:52.996396Z"
    }
   },
   "id": "205afe62088e5dc3",
   "execution_count": 35
  },
  {
   "cell_type": "code",
   "outputs": [
    {
     "data": {
      "text/plain": "array([0.05362158])"
     },
     "execution_count": 31,
     "metadata": {},
     "output_type": "execute_result"
    }
   ],
   "source": [
    "test('awful, not a good one')"
   ],
   "metadata": {
    "collapsed": false,
    "ExecuteTime": {
     "end_time": "2024-03-10T18:38:40.039378Z",
     "start_time": "2024-03-10T18:38:40.021934Z"
    }
   },
   "id": "6961b427a7686ceb",
   "execution_count": 31
  },
  {
   "cell_type": "code",
   "outputs": [
    {
     "data": {
      "text/plain": "[('fuck', -0.0),\n ('nooooooooooooooooooooo', -0.61081571500278),\n ('trowing', -0.6209184792392918),\n ('feeney', -0.6216160303227446),\n ('purloin', -0.6342228651177614),\n ('kralik', -0.6493897587262036),\n ('coalescing', -0.652585494710407),\n ('isuh', -0.6536940528939483),\n ('boomtowns', -0.6558293524923691),\n ('brides', -0.6598270454998443)]"
     },
     "execution_count": 37,
     "metadata": {},
     "output_type": "execute_result"
    }
   ],
   "source": [
    "similar('fuck')"
   ],
   "metadata": {
    "collapsed": false,
    "ExecuteTime": {
     "end_time": "2024-03-10T18:41:29.126913Z",
     "start_time": "2024-03-10T18:41:27.342369Z"
    }
   },
   "id": "a32b42608bef4730",
   "execution_count": 37
  },
  {
   "cell_type": "code",
   "outputs": [
    {
     "data": {
      "text/plain": "3*x**2/(1 - x**3)**2",
      "text/latex": "$\\displaystyle \\frac{3 x^{2}}{\\left(1 - x^{3}\\right)^{2}}$"
     },
     "execution_count": 39,
     "metadata": {},
     "output_type": "execute_result"
    }
   ],
   "source": [
    "import sympy as sp\n",
    "from sympy.abc import x\n",
    "\n",
    "\n",
    "f = 1 / (1 - x**3)\n",
    "f.diff()"
   ],
   "metadata": {
    "collapsed": false,
    "ExecuteTime": {
     "end_time": "2024-03-10T19:17:22.183812Z",
     "start_time": "2024-03-10T19:17:22.173074Z"
    }
   },
   "id": "48cc249fc8397f55",
   "execution_count": 39
  },
  {
   "cell_type": "code",
   "outputs": [],
   "source": [],
   "metadata": {
    "collapsed": false
   },
   "id": "8b2c095ee44ea06"
  }
 ],
 "metadata": {
  "kernelspec": {
   "display_name": "Python 3",
   "language": "python",
   "name": "python3"
  },
  "language_info": {
   "codemirror_mode": {
    "name": "ipython",
    "version": 2
   },
   "file_extension": ".py",
   "mimetype": "text/x-python",
   "name": "python",
   "nbconvert_exporter": "python",
   "pygments_lexer": "ipython2",
   "version": "2.7.6"
  }
 },
 "nbformat": 4,
 "nbformat_minor": 5
}
