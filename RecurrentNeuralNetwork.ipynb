{
 "cells": [
  {
   "cell_type": "raw",
   "source": [],
   "metadata": {
    "collapsed": false
   },
   "id": "b734b4c38f74a21a"
  },
  {
   "cell_type": "code",
   "execution_count": 67,
   "id": "initial_id",
   "metadata": {
    "collapsed": true,
    "ExecuteTime": {
     "end_time": "2024-04-25T20:41:07.805318Z",
     "start_time": "2024-04-25T20:41:07.780635Z"
    }
   },
   "outputs": [],
   "source": [
    "import sys, random, math\n",
    "from collections import Counter\n",
    "import numpy as np\n",
    "\n",
    "with open('Source/tasksv11/en/qa1_single-supporting-fact_train.txt', 'r') as f:\n",
    "    raw = f.readlines()[:]\n",
    "\n",
    "raw = [''.join([i for i in letter if i.isalpha() or i == ' ']) for letter in raw]\n",
    "tokens = [line.lower().split(\" \")[1:] for line in raw]"
   ]
  },
  {
   "cell_type": "code",
   "outputs": [],
   "source": [
    "vocab = set()\n",
    "for sent in tokens:\n",
    "    for word in sent:\n",
    "        vocab.add(word)\n",
    "\n",
    "vocab = list(vocab)\n",
    "\n",
    "word2index = {}\n",
    "for i,word in enumerate(vocab):\n",
    "    word2index[word]=i\n",
    "\n",
    "def words2indices(sentence):\n",
    "    idx = list()\n",
    "    for word in sentence:\n",
    "        idx.append(word2index[word])\n",
    "    return idx\n",
    "\n",
    "def softmax(x):\n",
    "    e_x = np.exp(x - np.max(x))\n",
    "    return e_x / e_x.sum(axis=0)\n",
    "    "
   ],
   "metadata": {
    "collapsed": false,
    "ExecuteTime": {
     "end_time": "2024-04-25T20:41:08.327717Z",
     "start_time": "2024-04-25T20:41:08.321651Z"
    }
   },
   "id": "9dee851a5437b14e",
   "execution_count": 68
  },
  {
   "cell_type": "code",
   "outputs": [],
   "source": [
    "def predict(sent):\n",
    "    layer = {}\n",
    "    layer['hidden'] = start\n",
    "    layers = [layer]\n",
    "    \n",
    "    loss = 0\n",
    "    \n",
    "    preds = []\n",
    "    for target_i in range(len(sent)):\n",
    "        layer = {}\n",
    "        layer['pred'] = softmax(layers[-1]['hidden'] @ decoder)\n",
    "        \n",
    "        loss -= np.log(layer['pred'][sent[target_i]])\n",
    "        layer['hidden'] = layers[-1]['hidden'] @ recurrent + embed[sent[target_i]]\n",
    "        layers.append(layer)\n",
    "        \n",
    "    return layers, loss\n",
    "    "
   ],
   "metadata": {
    "collapsed": false,
    "ExecuteTime": {
     "end_time": "2024-04-25T20:41:10.207030Z",
     "start_time": "2024-04-25T20:41:10.202298Z"
    }
   },
   "id": "72f0bbc731f55491",
   "execution_count": 70
  },
  {
   "cell_type": "code",
   "outputs": [],
   "source": [
    "embed_size = 10\n",
    "embed = (np.random.rand(len(vocab), embed_size) - 0.5) * 0.1\n",
    "recurrent = np.eye(embed_size)\n",
    "start = np.zeros(embed_size)\n",
    "decoder = (np.random.rand(embed_size, len(vocab)) - 0.5) * 0.1\n",
    "one_hot = np.eye(len(vocab))"
   ],
   "metadata": {
    "collapsed": false,
    "ExecuteTime": {
     "end_time": "2024-04-25T20:43:31.100906Z",
     "start_time": "2024-04-25T20:43:31.097550Z"
    }
   },
   "id": "eac4c3ed268db157",
   "execution_count": 78
  },
  {
   "cell_type": "code",
   "outputs": [
    {
     "name": "stdout",
     "output_type": "stream",
     "text": [
      "99000 Perplexity: nan\r"
     ]
    }
   ],
   "source": [
    "for iter in range(100000):\n",
    "    alpha = 0.001\n",
    "    sent = words2indices(tokens[iter % len(tokens)][1:])\n",
    "    layers, loss = predict(sent)\n",
    "    \n",
    "    for layer_idx in reversed(range(len(layers))):\n",
    "        layer = layers[layer_idx]\n",
    "        target = sent[layer_idx - 1]\n",
    "        \n",
    "        if layer_idx > 0:\n",
    "            layer['output_delta'] = layer['pred'] - one_hot[target]\n",
    "            new_hidden_delta = layer['output_delta'] @ decoder.T\n",
    "        \n",
    "            if layer_idx == len(layers) - 1:\n",
    "                layer['hidden_delta'] = new_hidden_delta\n",
    "            else:\n",
    "                layer['hidden_delta'] = new_hidden_delta +\\\n",
    "                    layers[layer_idx + 1]['hidden_delta'] @ recurrent.T\n",
    "        else:\n",
    "            layer['hidden_delta'] = layers[layer_idx + 1]['hidden_delta'] \\\n",
    "                                    @ recurrent.T\n",
    "    \n",
    "    start -= layers[0]['hidden_delta'] * alpha / float(len(sent))\n",
    "    for layer_idx, layer in enumerate(layers[1:]):\n",
    "        decoder -= np.outer(layers[layer_idx]['hidden'],\\\n",
    "                            layer['output_delta']) * alpha / float(len(sent))\n",
    "        embed_idx = sent[layer_idx]\n",
    "        embed[embed_idx] -= layers[layer_idx]['hidden_delta'] * alpha / float(len(sent))\n",
    "        recurrent -= np.outer(layers[layer_idx]['hidden'], \\\n",
    "                            layer['hidden_delta']) * alpha / float(len(sent))\n",
    "\n",
    "    if iter % 1000 == 0:\n",
    "        print(str(iter) + ' Perplexity: ' + str(np.exp(loss/len(sent))), end='\\r')\n",
    "        \n",
    "        "
   ],
   "metadata": {
    "collapsed": false,
    "ExecuteTime": {
     "end_time": "2024-04-25T20:44:31.308913Z",
     "start_time": "2024-04-25T20:44:15.179995Z"
    }
   },
   "id": "a0c31e7e289ef9ea",
   "execution_count": 84
  },
  {
   "cell_type": "code",
   "outputs": [],
   "source": [
    "def test(sentence):\n",
    "    context = sentence.split()\n",
    "    lr, _ = predict(words2indices(context))\n",
    "    words2indices(context)\n",
    "\n",
    "    print(context[0 : len(context)])\n",
    "    for i in range(len(context), 100):\n",
    "        each_layer = lr[i]\n",
    "        pred = vocab[each_layer['pred'].argmax()]\n",
    "        print(pred)\n",
    "\n",
    "        context.append(pred)\n",
    "        lr, _ = predict(words2indices(context))\n"
   ],
   "metadata": {
    "collapsed": false,
    "ExecuteTime": {
     "end_time": "2024-04-25T20:44:33.216183Z",
     "start_time": "2024-04-25T20:44:33.212552Z"
    }
   },
   "id": "ef726ce2efea531",
   "execution_count": 85
  },
  {
   "cell_type": "code",
   "outputs": [
    {
     "name": "stdout",
     "output_type": "stream",
     "text": [
      "['john', 'went', 'to']\n",
      "to\n",
      "to\n",
      "to\n",
      "to\n",
      "to\n",
      "to\n",
      "to\n",
      "to\n",
      "to\n",
      "to\n",
      "to\n",
      "to\n",
      "to\n",
      "to\n",
      "to\n",
      "to\n",
      "to\n",
      "to\n",
      "to\n",
      "to\n",
      "to\n",
      "to\n",
      "to\n",
      "to\n",
      "to\n",
      "to\n",
      "to\n",
      "to\n",
      "to\n",
      "to\n",
      "to\n",
      "to\n",
      "to\n",
      "to\n",
      "to\n",
      "to\n",
      "to\n",
      "to\n",
      "to\n",
      "to\n",
      "to\n",
      "to\n",
      "to\n",
      "to\n",
      "to\n",
      "to\n",
      "to\n",
      "to\n",
      "to\n",
      "to\n",
      "to\n",
      "to\n",
      "to\n",
      "to\n",
      "to\n",
      "to\n",
      "to\n",
      "to\n",
      "to\n",
      "to\n",
      "to\n",
      "to\n",
      "to\n",
      "to\n",
      "to\n",
      "to\n",
      "to\n",
      "to\n",
      "to\n",
      "to\n",
      "to\n",
      "to\n",
      "to\n",
      "to\n",
      "to\n",
      "to\n",
      "to\n",
      "to\n",
      "to\n",
      "to\n",
      "to\n",
      "to\n",
      "to\n",
      "to\n",
      "to\n",
      "to\n",
      "to\n",
      "to\n",
      "to\n",
      "to\n",
      "to\n",
      "to\n",
      "to\n",
      "to\n",
      "to\n",
      "to\n",
      "to\n"
     ]
    }
   ],
   "source": [
    "test('john went to')    "
   ],
   "metadata": {
    "collapsed": false,
    "ExecuteTime": {
     "end_time": "2024-04-25T20:44:33.454650Z",
     "start_time": "2024-04-25T20:44:33.348728Z"
    }
   },
   "id": "614a4185a63ae73b",
   "execution_count": 86
  },
  {
   "cell_type": "code",
   "outputs": [],
   "source": [
    "        "
   ],
   "metadata": {
    "collapsed": false
   },
   "id": "76ccfb0f8abf57aa"
  }
 ],
 "metadata": {
  "kernelspec": {
   "display_name": "Python 3",
   "language": "python",
   "name": "python3"
  },
  "language_info": {
   "codemirror_mode": {
    "name": "ipython",
    "version": 2
   },
   "file_extension": ".py",
   "mimetype": "text/x-python",
   "name": "python",
   "nbconvert_exporter": "python",
   "pygments_lexer": "ipython2",
   "version": "2.7.6"
  }
 },
 "nbformat": 4,
 "nbformat_minor": 5
}
